{
 "cells": [
  {
   "cell_type": "code",
   "execution_count": 3,
   "id": "1268c160-4870-4f67-aef4-1299b89b09de",
   "metadata": {},
   "outputs": [
    {
     "name": "stdin",
     "output_type": "stream",
     "text": [
      "enter the size: 5\n"
     ]
    },
    {
     "name": "stdout",
     "output_type": "stream",
     "text": [
      "  1   2   3   4   5 \n",
      " 16  17  18  19   6 \n",
      " 15  24  25  20   7 \n",
      " 14  23  22  21   8 \n",
      " 13  12  11  10   9 \n"
     ]
    }
   ],
   "source": [
    "n=int(input(\"enter the size:\"))\n",
    "matrix=[[0]*n for _ in range(n)]\n",
    "top,left=0,0\n",
    "bottom,right=n-1,n-1\n",
    "num=1\n",
    "while top<=bottom and left<=right:\n",
    "    for i in range (left,right+1):\n",
    "        matrix[top][i]=num\n",
    "        num+=1\n",
    "    top+=1\n",
    "    for i in range(top,bottom+1):\n",
    "         matrix[i][right]=num\n",
    "         num+=1\n",
    "    right-=1\n",
    "    for i in range(right,left-1,-1):\n",
    "         matrix[bottom][i]=num\n",
    "         num+=1\n",
    "    bottom-=1\n",
    "    for i in range(bottom,top-1,-1):\n",
    "         matrix[i][left]=num\n",
    "         num+=1\n",
    "    left+=1\n",
    "for row in matrix:\n",
    "    for val in row:\n",
    "        print(f\"{val:3}\",end=' ')\n",
    "    print()"
   ]
  },
  {
   "cell_type": "code",
   "execution_count": null,
   "id": "99b07c4f-81c2-4509-814a-a05c53819274",
   "metadata": {},
   "outputs": [],
   "source": []
  }
 ],
 "metadata": {
  "kernelspec": {
   "display_name": "Python 3 (ipykernel)",
   "language": "python",
   "name": "python3"
  },
  "language_info": {
   "codemirror_mode": {
    "name": "ipython",
    "version": 3
   },
   "file_extension": ".py",
   "mimetype": "text/x-python",
   "name": "python",
   "nbconvert_exporter": "python",
   "pygments_lexer": "ipython3",
   "version": "3.12.7"
  }
 },
 "nbformat": 4,
 "nbformat_minor": 5
}
